{
 "cells": [
  {
   "cell_type": "markdown",
   "metadata": {},
   "source": [
    "NMFk: Extraction of signals from observation points (wells) detecting mixed concentration\n",
    "---"
   ]
  },
  {
   "cell_type": "markdown",
   "metadata": {},
   "source": [
    "Let us assume that there are 20 wells (monitoring points), 2 sources (contaminant plumes), and 3 chemical species (e.g., nitrate, sulfate, cloride) detected at each well.\n",
    "\n",
    "These types of analyses are applicable for many cases in which mixing of signals (volumes/mass) is constrained by volumetric or weight constraints.\n",
    "For example, these types of problmes occur in the case of mass transport in fluids (e.g., atmosphere, oceans, watersheds, aquifers, etc.)."
   ]
  },
  {
   "cell_type": "code",
   "execution_count": 1,
   "metadata": {},
   "outputs": [
    {
     "name": "stderr",
     "output_type": "stream",
     "text": [
      "┌ Info: Recompiling stale cache file /Users/monty/.julia/compiled/v1.2/NMFk/Ywuhu.ji for NMFk [e40cd9e2-a1df-5d90-a1fa-603fdc3dbdd8]\n",
      "└ @ Base loading.jl:1240\n",
      "┌ Warning: PyPlot is using tkagg backend, which is known to cause crashes on MacOS (#410); use the MPLBACKEND environment variable to request a different backend.\n",
      "└ @ PyPlot ~/.julia/packages/PyPlot/4wzW1/src/init.jl:192\n",
      "WARNING: Method definition savehtml(IO, PlotlyBase.Plot{TT} where TT<:PlotlyBase.AbstractTrace) in module PlotlyBase at /Users/monty/.julia/packages/PlotlyBase/80KwD/src/output.jl:40 overwritten in module PlotlyJS at /Users/monty/.julia/packages/PlotlyJS/b9Efu/src/display.jl:334.\n",
      "  ** incremental compilation may be fatally broken for this module **\n",
      "\n",
      "WARNING: Method definition savehtml(PlotlyBase.Plot{TT} where TT<:PlotlyBase.AbstractTrace, AbstractString) in module PlotlyBase at /Users/monty/.julia/packages/PlotlyBase/80KwD/src/output.jl:52 overwritten in module PlotlyJS at /Users/monty/.julia/packages/PlotlyJS/b9Efu/src/display.jl:361.\n",
      "  ** incremental compilation may be fatally broken for this module **\n",
      "\n"
     ]
    },
    {
     "name": "stdout",
     "output_type": "stream",
     "text": [
      "\u001b[1mNMFk: Nonnegative Matrix Factorization + k-means clustering\u001b[0m\n",
      "====\n",
      "\n",
      "\u001b[1m\u001b[34m  _     _  \u001b[1m\u001b[31m _      _  \u001b[1m\u001b[32m _______   \u001b[1m\u001b[35m_\u001b[0m\n",
      "\u001b[1m\u001b[34m |  \\  | | \u001b[1m\u001b[31m|  \\  /  | \u001b[1m\u001b[32m|  _____| \u001b[1m\u001b[35m| |  _\u001b[0m\n",
      "\u001b[1m\u001b[34m | . \\ | | \u001b[1m\u001b[31m| . \\/ . | \u001b[1m\u001b[32m| |___    \u001b[1m\u001b[35m| | / /\u001b[0m\n",
      "\u001b[1m\u001b[34m | |\\ \\| | \u001b[1m\u001b[31m| |\\  /| | \u001b[1m\u001b[32m|  ___|   \u001b[1m\u001b[35m| |/ /\u001b[0m\n",
      "\u001b[1m\u001b[34m | | \\ ' | \u001b[1m\u001b[31m| | \\/ | | \u001b[1m\u001b[32m| |       \u001b[1m\u001b[35m|   (\u001b[0m\n",
      "\u001b[1m\u001b[34m | |  \\  | \u001b[1m\u001b[31m| |    | | \u001b[1m\u001b[32m| |       \u001b[1m\u001b[35m| |\\ \\\u001b[0m\n",
      "\u001b[1m\u001b[34m |_|   \\_| \u001b[1m\u001b[31m|_|    |_| \u001b[1m\u001b[32m|_|       \u001b[1m\u001b[35m|_| \\_\\\u001b[0m\n",
      "\n",
      "NMFk performs unsupervised machine learning based on matrix decomposition coupled with sparsity and nonnegativity constraints.\n",
      "NMFk methodology allows for automatic identification of the optimal number of features (signals) present in two-dimensional data arrays (matrices).\n",
      "The number of features is estimated automatically.\n"
     ]
    },
    {
     "data": {
      "text/html": [
       "<script>\n",
       "// Immediately-invoked-function-expression to avoid global variables.\n",
       "(function() {\n",
       "    var warning_div = document.getElementById(\"webio-warning-6292203269370384457\");\n",
       "    var hide = function () {\n",
       "        var script = document.getElementById(\"webio-setup-17139355282912406372\");\n",
       "        var parent = script && script.parentElement;\n",
       "        var grandparent = parent && parent.parentElement;\n",
       "        if (grandparent) {\n",
       "            grandparent.style.display = \"none\";\n",
       "        }\n",
       "        warning_div.style.display = \"none\";\n",
       "    };\n",
       "    if (typeof Jupyter !== \"undefined\") {\n",
       "        console.log(\"WebIO detected Jupyter notebook environment.\");\n",
       "        // Jupyter notebook.\n",
       "        var extensions = (\n",
       "            Jupyter\n",
       "            && Jupyter.notebook.config.data\n",
       "            && Jupyter.notebook.config.data.load_extensions\n",
       "        );\n",
       "        if (extensions && extensions[\"webio-jupyter-notebook\"]) {\n",
       "            // Extension already loaded.\n",
       "            console.log(\"Jupyter WebIO nbextension detected; not loading ad-hoc.\");\n",
       "            hide();\n",
       "            return;\n",
       "        }\n",
       "    } else if (window.location.pathname.includes(\"/lab\")) {\n",
       "        // Guessing JupyterLa\n",
       "        console.log(\"Jupyter Lab detected; make sure the @webio/jupyter-lab-provider labextension is installed.\");\n",
       "        hide();\n",
       "        return;\n",
       "    }\n",
       "})();\n",
       "\n",
       "</script>\n",
       "<p\n",
       "    id=\"webio-warning-6292203269370384457\"\n",
       "    class=\"output_text output_stderr\"\n",
       "    style=\"padding: 1em; font-weight: bold;\"\n",
       ">\n",
       "    Unable to load WebIO. Please make sure WebIO works for your Jupyter client.\n",
       "    For troubleshooting, please see <a href=\"https://juliagizmos.github.io/WebIO.jl/latest/providers/ijulia/\">\n",
       "    the WebIO/IJulia documentation</a>.\n",
       "    <!-- TODO: link to installation docs. -->\n",
       "</p>\n"
      ],
      "text/plain": [
       "HTML{String}(\"<script>\\n// Immediately-invoked-function-expression to avoid global variables.\\n(function() {\\n    var warning_div = document.getElementById(\\\"webio-warning-6292203269370384457\\\");\\n    var hide = function () {\\n        var script = document.getElementById(\\\"webio-setup-17139355282912406372\\\");\\n        var parent = script && script.parentElement;\\n        var grandparent = parent && parent.parentElement;\\n        if (grandparent) {\\n            grandparent.style.display = \\\"none\\\";\\n        }\\n        warning_div.style.display = \\\"none\\\";\\n    };\\n    if (typeof Jupyter !== \\\"undefined\\\") {\\n        console.log(\\\"WebIO detected Jupyter notebook environment.\\\");\\n        // Jupyter notebook.\\n        var extensions = (\\n            Jupyter\\n            && Jupyter.notebook.config.data\\n            && Jupyter.notebook.config.data.load_extensions\\n        );\\n        if (extensions && extensions[\\\"webio-jupyter-notebook\\\"]) {\\n            // Extension already loaded.\\n            console.log(\\\"Jupyter WebIO nbextension detected; not loading ad-hoc.\\\");\\n            hide();\\n            return;\\n        }\\n    } else if (window.location.pathname.includes(\\\"/lab\\\")) {\\n        // Guessing JupyterLa\\n        console.log(\\\"Jupyter Lab detected; make sure the @webio/jupyter-lab-provider labextension is installed.\\\");\\n        hide();\\n        return;\\n    }\\n})();\\n\\n</script>\\n<p\\n    id=\\\"webio-warning-6292203269370384457\\\"\\n    class=\\\"output_text output_stderr\\\"\\n    style=\\\"padding: 1em; font-weight: bold;\\\"\\n>\\n    Unable to load WebIO. Please make sure WebIO works for your Jupyter client.\\n    For troubleshooting, please see <a href=\\\"https://juliagizmos.github.io/WebIO.jl/latest/providers/ijulia/\\\">\\n    the WebIO/IJulia documentation</a>.\\n    <!-- TODO: link to installation docs. -->\\n</p>\\n\")"
      ]
     },
     "metadata": {},
     "output_type": "display_data"
    },
    {
     "name": "stderr",
     "output_type": "stream",
     "text": [
      "┌ Info: Loading DataFrames support into Gadfly.jl\n",
      "└ @ Gadfly /Users/monty/.julia/packages/Gadfly/09PWZ/src/mapping.jl:228\n",
      "┌ Warning: PyPlot is using tkagg backend, which is known to cause crashes on MacOS (#410); use the MPLBACKEND environment variable to request a different backend.\n",
      "└ @ PyPlot /Users/monty/.julia/packages/PyPlot/4wzW1/src/init.jl:192\n"
     ]
    }
   ],
   "source": [
    "import NMFk\n",
    "import Random"
   ]
  },
  {
   "cell_type": "code",
   "execution_count": 2,
   "metadata": {},
   "outputs": [],
   "source": [
    "nWells = 20\n",
    "nSources = 2\n",
    "nSpecies = 3\n",
    "Random.seed!(2015);"
   ]
  },
  {
   "cell_type": "markdown",
   "metadata": {},
   "source": [
    "Due to volumetric constraints, mixing at each of well (observation pooint) has to add to 1.\n",
    "\n",
    "The mixing matrix $W$ is defined as:"
   ]
  },
  {
   "cell_type": "code",
   "execution_count": 3,
   "metadata": {},
   "outputs": [
    {
     "data": {
      "text/plain": [
       "20×2 Array{Float64,2}:\n",
       " 0.395136  0.604864\n",
       " 0.231592  0.768408\n",
       " 0.351722  0.648278\n",
       " 0.562318  0.437682\n",
       " 0.476007  0.523993\n",
       " 0.547533  0.452467\n",
       " 0.446452  0.553548\n",
       " 0.499894  0.500106\n",
       " 0.601403  0.398597\n",
       " 0.267675  0.732325\n",
       " 0.592915  0.407085\n",
       " 0.55854   0.44146 \n",
       " 0.735353  0.264647\n",
       " 0.364806  0.635194\n",
       " 0.121244  0.878756\n",
       " 0.788195  0.211805\n",
       " 0.245554  0.754446\n",
       " 0.818814  0.181186\n",
       " 0.450388  0.549612\n",
       " 0.507392  0.492608"
      ]
     },
     "metadata": {},
     "output_type": "display_data"
    }
   ],
   "source": [
    "W = rand(nWells, nSources)\n",
    "for i = 1:nWells\n",
    "\tW[i, :] ./= sum(W[i, :])\n",
    "end\n",
    "display(W)"
   ]
  },
  {
   "cell_type": "markdown",
   "metadata": {},
   "source": [
    "$W$ defines 2 mixing values for each of the 20 observation points.\n",
    "\n",
    "The 2 mixing values defines how the 2 sources (signals) are mixed at each well.\n",
    "\n",
    "The mixing values for each well add up to 1.\n",
    "\n",
    "Let us define $H$ as a matrix which specifies the concentrations of the 3 chemical species present in the 2 sources:"
   ]
  },
  {
   "cell_type": "code",
   "execution_count": 4,
   "metadata": {},
   "outputs": [
    {
     "data": {
      "text/plain": [
       "2×3 Array{Int64,2}:\n",
       " 100   0   3\n",
       "   5  10  20"
      ]
     },
     "execution_count": 4,
     "metadata": {},
     "output_type": "execute_result"
    }
   ],
   "source": [
    "H = [100 0 3; 5 10 20]"
   ]
  },
  {
   "cell_type": "markdown",
   "metadata": {},
   "source": [
    "Here, the first source has elevated (100) concentration for the first species.\n",
    "\n",
    "The second source has elevated (100) concentrations for the second (10) and third (20) species.\n",
    "\n",
    "Now we can compute the observed concetrations at the wells $X$ as:"
   ]
  },
  {
   "cell_type": "code",
   "execution_count": 5,
   "metadata": {},
   "outputs": [
    {
     "data": {
      "text/plain": [
       "20×3 Array{Float64,2}:\n",
       " 42.5379  6.04864  13.2827 \n",
       " 27.0013  7.68408  16.0629 \n",
       " 38.4136  6.48278  14.0207 \n",
       " 58.4202  4.37682  10.4406 \n",
       " 50.2206  5.23993  11.9079 \n",
       " 57.0156  4.52467  10.6919 \n",
       " 47.413   5.53548  12.4103 \n",
       " 52.4899  5.00106  11.5018 \n",
       " 62.1333  3.98597   9.77616\n",
       " 30.4291  7.32325  15.4495 \n",
       " 61.3269  4.07085   9.92044\n",
       " 58.0613  4.4146   10.5048 \n",
       " 74.8585  2.64647   7.49901\n",
       " 39.6565  6.35194  13.7983 \n",
       " 16.5182  8.78756  17.9389 \n",
       " 79.8785  2.11805   6.60068\n",
       " 28.3277  7.54446  15.8256 \n",
       " 82.7873  1.81186   6.08016\n",
       " 47.7869  5.49612  12.3434 \n",
       " 53.2022  4.92608  11.3743 "
      ]
     },
     "execution_count": 5,
     "metadata": {},
     "output_type": "execute_result"
    }
   ],
   "source": [
    "X = W * H"
   ]
  },
  {
   "cell_type": "markdown",
   "metadata": {},
   "source": [
    "We can also make some of the observations ''missing'' by setting their values to $NaN$:"
   ]
  },
  {
   "cell_type": "code",
   "execution_count": 7,
   "metadata": {},
   "outputs": [
    {
     "data": {
      "text/plain": [
       "20×3 Array{Float64,2}:\n",
       " NaN       6.04864  13.2827 \n",
       "  27.0013  7.68408  16.0629 \n",
       "  38.4136  6.48278  14.0207 \n",
       "  58.4202  4.37682  10.4406 \n",
       "  50.2206  5.23993  11.9079 \n",
       "  57.0156  4.52467  10.6919 \n",
       "  47.413   5.53548  12.4103 \n",
       "  52.4899  5.00106  11.5018 \n",
       "  62.1333  3.98597   9.77616\n",
       "  30.4291  7.32325  15.4495 \n",
       "  61.3269  4.07085   9.92044\n",
       "  58.0613  4.4146   10.5048 \n",
       "  74.8585  2.64647   7.49901\n",
       "  39.6565  6.35194  13.7983 \n",
       "  16.5182  8.78756  17.9389 \n",
       "  79.8785  2.11805   6.60068\n",
       "  28.3277  7.54446  15.8256 \n",
       "  82.7873  1.81186   6.08016\n",
       "  47.7869  5.49612  12.3434 \n",
       "  53.2022  4.92608  11.3743 "
      ]
     },
     "metadata": {},
     "output_type": "display_data"
    }
   ],
   "source": [
    "X[1, 1] = NaN\n",
    "display(X)"
   ]
  },
  {
   "cell_type": "markdown",
   "metadata": {},
   "source": [
    "Now assiming that only $X$ is **known**, we can estimate **unknown** $W$ and $H$ using **NMFk**.\n",
    "\n",
    "The **NMFk** provides estimates of $W$ and $H$ ($We$ and $He$) together with two variables evaluating accounts for the mixing."
   ]
  },
  {
   "cell_type": "code",
   "execution_count": 10,
   "metadata": {},
   "outputs": [
    {
     "name": "stderr",
     "output_type": "stream",
     "text": [
      "┌ Info: Saving requested but casefilename not specified; casefilename = \"nmfk\" will be used!\n",
      "└ @ NMFk /Users/monty/.julia/dev/NMFk/src/NMFkExecute.jl:32\n"
     ]
    },
    {
     "name": "stdout",
     "output_type": "stream",
     "text": [
      "\n",
      "OF: min 2.3544459195637997e-17 max 1.1873067515517992e-16 mean 6.693127765578324e-17 std 2.986507206492013e-17\n",
      "Worst correlation by columns: 24.25443447224253\n",
      "Worst correlation by rows: 3.423472891487247\n",
      "Worst norm by columns: 9.53474385418074e-12\n",
      "Worst norm by rows: 1.9796606763520907e-11\n",
      "Signals:  2 Fit:     22.28706 Silhouette:    0.9993618 AIC:    -5.438354\n"
     ]
    },
    {
     "name": "stderr",
     "output_type": "stream",
     "text": [
      "┌ Info: Saving requested but casefilename not specified; casefilename = \"nmfk\" will be used!\n",
      "└ @ NMFk /Users/monty/.julia/dev/NMFk/src/NMFkExecute.jl:32\n"
     ]
    },
    {
     "name": "stdout",
     "output_type": "stream",
     "text": [
      "\n",
      "OF: min 1.2427222624536149e-16 max 3.113707918756757e-12 mean 3.1210148508796577e-13 std 9.84384926612985e-13\n",
      "Worst correlation by columns: 24.254434473439872\n",
      "Worst correlation by rows: 3.4234728900612303\n",
      "Worst norm by columns: 2.3361147385761104e-11\n",
      "Worst norm by rows: 3.73835270580918e-11\n",
      "Signals:  3 Fit:     19.94667 Silhouette:   -0.3958711 AIC:     34.01596\n"
     ]
    },
    {
     "name": "stderr",
     "output_type": "stream",
     "text": [
      "┌ Info: Saving requested but casefilename not specified; casefilename = \"nmfk\" will be used!\n",
      "└ @ NMFk /Users/monty/.julia/dev/NMFk/src/NMFkExecute.jl:32\n"
     ]
    },
    {
     "name": "stdout",
     "output_type": "stream",
     "text": [
      "\n",
      "OF: min 1.5453666579032498e-16 max 3.4463530169198547e-13 mean 4.77220417515629e-14 std 1.0692223519507712e-13\n",
      "Worst correlation by columns: 24.254434467962795\n",
      "Worst correlation by rows: 3.423472890220355\n",
      "Worst norm by columns: 4.061325067072703e-11\n",
      "Worst norm by rows: 4.889344533047362e-11\n",
      "Signals:  4 Fit:     38.20362 Silhouette:   -0.5337855 AIC:     118.3582\n",
      "Signals:  2 Fit:     22.28706 Silhouette:    0.9993618 AIC:    -5.438354\n",
      "Signals:  3 Fit:     19.94667 Silhouette:   -0.3958711 AIC:     34.01596\n",
      "Signals:  4 Fit:     38.20362 Silhouette:   -0.5337855 AIC:     118.3582\n"
     ]
    },
    {
     "name": "stderr",
     "output_type": "stream",
     "text": [
      "┌ Info: Results\n",
      "└ @ NMFk /Users/monty/.julia/dev/NMFk/src/NMFkExecute.jl:19\n",
      "┌ Info: Optimal solution: 2 signals\n",
      "└ @ NMFk /Users/monty/.julia/dev/NMFk/src/NMFkExecute.jl:25\n"
     ]
    },
    {
     "data": {
      "text/plain": [
       "(Array{Float64,2}[#undef, [0.4283139894710423 0.5716860105289577; 0.2482348459648578 0.7517651540351423; … ; 0.4891521342526552 0.5108478657473448; 0.551919058816045 0.4480809411839551], [0.30355613035335766 0.2889476605953807 0.4074962090512617; 0.39485842265067794 0.377520193320631 0.22762138402869098; … ; 0.27271053882600255 0.259024133082174 0.46826532809182353; 0.24088697208957988 0.22815199044471846 0.5309610374657018], [0.2014424687690873 0.22977538816119045 0.19743315578487097 0.3713489872848513; 0.2809790709537467 0.2661710493400927 0.24017481746294828 0.21267506224321236; … ; 0.1910342934879941 0.18818744721956845 0.17121081409284328 0.44956744519959424; 0.1676007043754704 0.16787013851354432 0.15324340835535807 0.5112857487556273]], Array{Float64,2}[#undef, [92.58201488213643 0.7808405415550482 4.327428916232103; 6.997205223875943 9.789767868986862 19.642605380749213], [7.523238785602447 12.381519947011755 15.139112904889668; 5.144865895439195 7.517814076585946 24.08329592628285; 92.68110726933516 0.7427181937716039 4.355822927111437], [7.342797289263362 15.934046623162205 34.72475478171112; 8.278842196552025 1.5073518884250185 14.65367103396567; 4.732480599076935 12.188852035747564 10.811952329004539; 95.244454247527 0.7571435680286892 4.032531680965872]], [0.0, 22.28705508255389, 19.946668525347974, 38.20361992577058], [0.0, 0.9993617542861385, -0.395871077986294, -0.5337855381118342], [0.0, -5.438353990070837, 34.01595696222149, 118.35817695063972], 2)"
      ]
     },
     "execution_count": 10,
     "metadata": {},
     "output_type": "execute_result"
    }
   ],
   "source": [
    "We, He, fit, aic, kopt = NMFk.execute(X, 2:4; mixture=:mixmatch)"
   ]
  },
  {
   "cell_type": "code",
   "execution_count": null,
   "metadata": {},
   "outputs": [],
   "source": []
  }
 ],
 "metadata": {
  "kernelspec": {
   "display_name": "Julia 1.2.0",
   "language": "julia",
   "name": "julia-1.2"
  },
  "language_info": {
   "file_extension": ".jl",
   "mimetype": "application/julia",
   "name": "julia",
   "version": "1.2.0"
  }
 },
 "nbformat": 4,
 "nbformat_minor": 2
}
