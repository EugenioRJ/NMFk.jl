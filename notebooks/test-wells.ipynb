{
 "cells": [
  {
   "cell_type": "code",
   "execution_count": 2,
   "metadata": {},
   "outputs": [],
   "source": [
    "import NMFk"
   ]
  },
  {
   "cell_type": "code",
   "execution_count": 3,
   "metadata": {},
   "outputs": [],
   "source": [
    "import Mads"
   ]
  },
  {
   "cell_type": "code",
   "execution_count": 4,
   "metadata": {},
   "outputs": [],
   "source": [
    "import JLD2\n",
    "import FileIO"
   ]
  },
  {
   "cell_type": "code",
   "execution_count": 5,
   "metadata": {},
   "outputs": [],
   "source": [
    "import Statistics"
   ]
  },
  {
   "cell_type": "code",
   "execution_count": 6,
   "metadata": {},
   "outputs": [
    {
     "data": {
      "text/plain": [
       "1×4 Array{Float64,2}:\n",
       " 0.8  0.4  0.1  0.6"
      ]
     },
     "execution_count": 6,
     "metadata": {},
     "output_type": "execute_result"
    }
   ],
   "source": [
    "A = [0.654060        0.142989        0.043485        0.000000        0.000000        0.000000        0.000000\n",
    "\t   1.000000        0.090943        0.048150        0.018898        0.006329        0.001725        0.000258\n",
    "\t   0.076188        0.020636        0.011489        0.006166        0.002998        0.000000        0.000000\n",
    "\t   0.378206        0.098391        0.041083        0.009261        0.000000        0.000000        0.000000\n",
    "\t   0.055413        0.021730        0.010460        0.004788        0.001719        0.000000        0.000000]\n",
    "\n",
    "B = [0.168427        0.049914        0.031383        0.020747        0.007634        0.004797        0.003955\n",
    "\t   0.959030        0.203276        0.095674        0.043699        0.000000        0.000000        0.000000\n",
    "\t   0.208403        0.064995        0.039014        0.019713        0.002357        0.000000        0.000000\n",
    "\t   0.948621        0.217649        0.101904        0.049093        0.024234        0.012169        0.008160]\n",
    "\n",
    "X = [0.500        0.002        0.667        0.40\n",
    "\t   0.800        0.200        0.667        0.76\n",
    "\t   0.800        0.100        0.400        0.80\n",
    "\t   0.600        0.010        1.000        0.40]\n",
    "\n",
    "Y = [1.000        0.600        0.267        1.00\n",
    "\t   0.700        0.020        0.333        0.60\n",
    "\t   1.000        0.020        0.200        0.72\n",
    "\t   0.700        1.000        0.233        0.60\n",
    "\t   1.000        0.060        0.133        0.80]\n",
    "\n",
    "Z = [0.800        0.400        0.100        0.60]"
   ]
  },
  {
   "cell_type": "code",
   "execution_count": 13,
   "metadata": {},
   "outputs": [
    {
     "name": "stderr",
     "output_type": "stream",
     "text": [
      "TypeError: in typeassert, expected Compose.PangoLayout, got Nothing┌ Warning: 2019-10-03 08:36:15 Mads.plotseries: Gadfly fails!\n",
      "└ @ Mads /Users/monty/.julia/dev/Mads/src/MadsLog.jl:53\n"
     ]
    },
    {
     "ename": "TypeError",
     "evalue": "TypeError: in typeassert, expected Compose.PangoLayout, got Nothing",
     "output_type": "error",
     "traceback": [
      "TypeError: in typeassert, expected Compose.PangoLayout, got Nothing",
      "",
      "Stacktrace:",
      " [1] max_text_extents at /Users/monty/.julia/packages/Compose/aVZwV/src/pango.jl:109 [inlined]",
      " [2] max_text_extents(::String, ::Measures.Length{:mm,Float64}, ::String) at /Users/monty/.julia/packages/Compose/aVZwV/src/pango.jl:124",
      " [3] render_key_title(::String, ::Gadfly.Theme) at /Users/monty/.julia/packages/Gadfly/09PWZ/src/guide.jl:369",
      " [4] render(::Gadfly.Guide.ManualColorKey{ColorTypes.RGB{FixedPointNumbers.Normed{UInt8,8}}}, ::Gadfly.Theme, ::Gadfly.Aesthetics) at /Users/monty/.julia/packages/Gadfly/09PWZ/src/guide.jl:531",
      " [5] render(::Gadfly.Guide.ManualColorKey{ColorTypes.RGB{FixedPointNumbers.Normed{UInt8,8}}}, ::Gadfly.Theme, ::Gadfly.Aesthetics, ::Bool) at /Users/monty/.julia/packages/Gadfly/09PWZ/src/guide.jl:141",
      " [6] #render_prepared#99(::Bool, ::Bool, ::typeof(Gadfly.render_prepared), ::Gadfly.Plot, ::Gadfly.Coord.Cartesian, ::Gadfly.Aesthetics, ::Array{Gadfly.Aesthetics,1}, ::Array{Array{Gadfly.StatisticElement,1},1}, ::Array{Array{Gadfly.Aesthetics,1},1}, ::Array{Array{Gadfly.Data,1},1}, ::Dict{Symbol,Gadfly.ScaleElement}, ::Array{Gadfly.GuideElement,1}) at /Users/monty/.julia/packages/Gadfly/09PWZ/src/Gadfly.jl:823",
      " [7] render_prepared(::Gadfly.Plot, ::Gadfly.Coord.Cartesian, ::Gadfly.Aesthetics, ::Array{Gadfly.Aesthetics,1}, ::Array{Array{Gadfly.StatisticElement,1},1}, ::Array{Array{Gadfly.Aesthetics,1},1}, ::Array{Array{Gadfly.Data,1},1}, ::Dict{Symbol,Gadfly.ScaleElement}, ::Array{Gadfly.GuideElement,1}) at /Users/monty/.julia/packages/Gadfly/09PWZ/src/Gadfly.jl:803",
      " [8] render(::Gadfly.Plot) at /Users/monty/.julia/packages/Gadfly/09PWZ/src/Gadfly.jl:749",
      " [9] draw at /Users/monty/.julia/packages/Gadfly/09PWZ/src/Gadfly.jl:854 [inlined]",
      " [10] display(::Gadfly.Plot) at /Users/monty/.julia/config/startup.jl:21",
      " [11] top-level scope at In[13]:1"
     ]
    }
   ],
   "source": [
    "display(Gadfly.plot((Mads.plotseries(permutedims(A); name=\"Well\", code=true)...)))"
   ]
  },
  {
   "cell_type": "code",
   "execution_count": 8,
   "metadata": {},
   "outputs": [
    {
     "ename": "MethodError",
     "evalue": "MethodError: objects of type Array{Float64,2} are not callable\nUse square brackets [] for indexing an Array.",
     "output_type": "error",
     "traceback": [
      "MethodError: objects of type Array{Float64,2} are not callable\nUse square brackets [] for indexing an Array.",
      "",
      "Stacktrace:",
      " [1] mapreduce_first(::Array{Float64,2}, ::Function, ::Int64) at ./reduce.jl:301",
      " [2] mapreduce(::Array{Float64,2}, ::Function, ::Int64) at ./reduce.jl:328",
      " [3] sum(::Array{Float64,2}, ::Int64) at ./reduce.jl:403",
      " [4] #sumnan#3(::Base.Iterators.Pairs{Union{},Union{},Tuple{},NamedTuple{(),Tuple{}}}, ::typeof(Mads.sumnan), ::Array{Float64,2}, ::Int64) at /Users/monty/.julia/dev/Mads/src/MadsHelpers.jl:19",
      " [5] sumnan(::Array{Float64,2}, ::Int64) at /Users/monty/.julia/dev/Mads/src/MadsHelpers.jl:13",
      " [6] #plotseries#354(::Int64, ::Int64, ::String, ::String, ::String, ::String, ::Bool, ::Bool, ::String, ::String, ::Array{String,1}, ::Bool, ::Measures.Length{:mm,Float64}, ::Measures.Length{:mm,Float64}, ::Measures.Length{:mm,Float64}, ::Symbol, ::Measures.Length{:mm,Float64}, ::Symbol, ::Measures.Length{:mm,Float64}, ::Measures.Length{:mm,Float64}, ::Int64, ::Array{String,1}, ::Float64, ::Nothing, ::Nothing, ::Nothing, ::Nothing, ::UnitRange{Int64}, ::Bool, ::Bool, ::Bool, ::Bool, ::Bool, ::Nothing, ::Array{Any,1}, ::Array{Any,1}, ::Bool, ::typeof(Mads.plotseries), ::Array{Float64,2}, ::String) at /Users/monty/.julia/dev/Mads/src/MadsPlot.jl:1137",
      " [7] (::getfield(Mads, Symbol(\"#kw##plotseries\")))(::NamedTuple{(:name, :logx, :logy),Tuple{String,Bool,Bool}}, ::typeof(Mads.plotseries), ::Array{Float64,2}, ::String) at ./none:0 (repeats 2 times)",
      " [8] top-level scope at In[8]:1"
     ]
    }
   ],
   "source": [
    "Mads.plotseries(permutedims(A); name=\"Well\", logx=true, logy=true)"
   ]
  },
  {
   "cell_type": "code",
   "execution_count": null,
   "metadata": {},
   "outputs": [],
   "source": []
  }
 ],
 "metadata": {
  "@webio": {
   "lastCommId": null,
   "lastKernelId": null
  },
  "kernelspec": {
   "display_name": "Julia 1.2.0",
   "language": "julia",
   "name": "julia-1.2"
  },
  "language_info": {
   "file_extension": ".jl",
   "mimetype": "application/julia",
   "name": "julia",
   "version": "1.2.0"
  }
 },
 "nbformat": 4,
 "nbformat_minor": 2
}
